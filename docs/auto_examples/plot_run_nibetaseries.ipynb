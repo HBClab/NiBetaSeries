{
  "cells": [
    {
      "cell_type": "code",
      "execution_count": null,
      "metadata": {
        "collapsed": false
      },
      "outputs": [],
      "source": [
        "%matplotlib inline"
      ]
    },
    {
      "cell_type": "markdown",
      "metadata": {},
      "source": [
        "\nRunning NiBetaSeries using ds000164 (Stroop Task)\n===============================================================\n\nThis example runs through a basic call of NiBetaSeries using\nthe commandline entry point ``nibs``.\nWhile this example is using python, typically ``nibs`` will be\ncalled directly on the commandline.\n\n"
      ]
    },
    {
      "cell_type": "markdown",
      "metadata": {},
      "source": [
        "Import all the necessary packages\n=================================\n\n"
      ]
    },
    {
      "cell_type": "code",
      "execution_count": null,
      "metadata": {
        "collapsed": false
      },
      "outputs": [],
      "source": [
        "import tempfile  # make a temporary directory for files\nimport os  # interact with the filesystem\nimport urllib.request  # grad data from internet\nimport tarfile  # extract files from tar\nfrom subprocess import Popen, PIPE, STDOUT  # enable calling commandline\n\nimport matplotlib.pyplot as plt  # manipulate figures\nimport seaborn as sns  # display results\nimport pandas as pd   # manipulate tabular data"
      ]
    },
    {
      "cell_type": "markdown",
      "metadata": {},
      "source": [
        "Download relevant data from ds000164 (and Atlas Files)\n======================================================\nThe subject data came from `openneuro <https://openneuro.org/datasets/ds000164/versions/00001/>`_.\nThe atlas data came from a `recently published parcellation <https://www.ncbi.nlm.nih.gov/pubmed/28981612>`_\nin a publically accessible github repository.\n\n"
      ]
    },
    {
      "cell_type": "code",
      "execution_count": null,
      "metadata": {
        "collapsed": false
      },
      "outputs": [],
      "source": [
        "# atlas github repo for reference:\n\"\"\"https://github.com/ThomasYeoLab/CBIG/raw/master/stable_projects/\\\nbrain_parcellation/Schaefer2018_LocalGlobal/Parcellations/MNI/\"\"\"\ndata_dir = tempfile.mkdtemp()\nprint('Our working directory: {}'.format(data_dir))\n\n# download the tar data\nurl = \"https://www.dropbox.com/s/qoqbiya1ou7vi78/ds000164-test_v1.tar.gz?dl=1\"\ntar_file = os.path.join(data_dir, \"ds000164.tar.gz\")\nu = urllib.request.urlopen(url)\ndata = u.read()\nu.close()\n\n# write tar data to file\nwith open(tar_file, \"wb\") as f:\n    f.write(data)\n\n# extract the data\ntar = tarfile.open(tar_file, mode='r|gz')\ntar.extractall(path=data_dir)\n\nos.remove(tar_file)"
      ]
    },
    {
      "cell_type": "markdown",
      "metadata": {},
      "source": [
        "Display the minimal dataset necessary to run nibs\n=================================================\n\n"
      ]
    },
    {
      "cell_type": "code",
      "execution_count": null,
      "metadata": {
        "collapsed": false
      },
      "outputs": [],
      "source": [
        "# https://stackoverflow.com/questions/9727673/list-directory-tree-structure-in-python\ndef list_files(startpath):\n    for root, dirs, files in os.walk(startpath):\n        level = root.replace(startpath, '').count(os.sep)\n        indent = ' ' * 4 * (level)\n        print('{}{}/'.format(indent, os.path.basename(root)))\n        subindent = ' ' * 4 * (level + 1)\n        for f in files:\n            print('{}{}'.format(subindent, f))\n\n\nlist_files(data_dir)"
      ]
    },
    {
      "cell_type": "markdown",
      "metadata": {},
      "source": [
        "Manipulate events file so it satifies assumptions\n=================================================\n1. the correct column has 1's and 0's corresponding to correct and incorrect,\nrespectively.\n2. the condition column is renamed to trial_type\nnibs currently depends on the \"correct\" column being binary\nand the \"trial_type\" column to contain the trial types of interest.\n\n"
      ]
    },
    {
      "cell_type": "markdown",
      "metadata": {},
      "source": [
        "read the file\n-------------\n\n"
      ]
    },
    {
      "cell_type": "code",
      "execution_count": null,
      "metadata": {
        "collapsed": false
      },
      "outputs": [],
      "source": [
        "events_file = os.path.join(data_dir,\n                           \"ds000164\",\n                           \"sub-001\",\n                           \"func\",\n                           \"sub-001_task-stroop_events.tsv\")\nevents_df = pd.read_csv(events_file, sep='\\t', na_values=\"n/a\")\nprint(events_df.head())"
      ]
    },
    {
      "cell_type": "markdown",
      "metadata": {},
      "source": [
        "change the Y/N to 1/0\n---------------------\n\n"
      ]
    },
    {
      "cell_type": "code",
      "execution_count": null,
      "metadata": {
        "collapsed": false
      },
      "outputs": [],
      "source": [
        "events_df['correct'].replace({\"Y\": 1, \"N\": 0}, inplace=True)\nprint(events_df.head())"
      ]
    },
    {
      "cell_type": "markdown",
      "metadata": {},
      "source": [
        "replace condition with trial_type\n---------------------------------\n\n"
      ]
    },
    {
      "cell_type": "code",
      "execution_count": null,
      "metadata": {
        "collapsed": false
      },
      "outputs": [],
      "source": [
        "events_df.rename({\"condition\": \"trial_type\"}, axis='columns', inplace=True)\nprint(events_df.head())"
      ]
    },
    {
      "cell_type": "markdown",
      "metadata": {},
      "source": [
        "save the file\n-------------\n\n"
      ]
    },
    {
      "cell_type": "code",
      "execution_count": null,
      "metadata": {
        "collapsed": false
      },
      "outputs": [],
      "source": [
        "events_df.to_csv(events_file, sep=\"\\t\", na_rep=\"n/a\", index=False)"
      ]
    },
    {
      "cell_type": "markdown",
      "metadata": {},
      "source": [
        "Manipulate the region order file\n================================\nThere are several adjustments to the atlas file that need to be completed\nbefore we can pass it into nibs.\nImportantly, the relevant column names **MUST** be named \"index\" and \"regions\".\n\"index\" refers to which integer within the file corresponds to which region\nin the atlas nifti file.\n\"regions\" refers the name of each region in the atlas nifti file.\n\n"
      ]
    },
    {
      "cell_type": "markdown",
      "metadata": {},
      "source": [
        "read the atlas file\n-------------------\n\n"
      ]
    },
    {
      "cell_type": "code",
      "execution_count": null,
      "metadata": {
        "collapsed": false
      },
      "outputs": [],
      "source": [
        "atlas_txt = os.path.join(data_dir,\n                         \"ds000164\",\n                         \"derivatives\",\n                         \"data\",\n                         \"Schaefer2018_100Parcels_7Networks_order.txt\")\natlas_df = pd.read_csv(atlas_txt, sep=\"\\t\", header=None)\nprint(atlas_df.head())"
      ]
    },
    {
      "cell_type": "markdown",
      "metadata": {},
      "source": [
        "drop coordinate columns\n-----------------------\n\n"
      ]
    },
    {
      "cell_type": "code",
      "execution_count": null,
      "metadata": {
        "collapsed": false
      },
      "outputs": [],
      "source": [
        "atlas_df.drop([2, 3, 4, 5], axis='columns', inplace=True)\nprint(atlas_df.head())"
      ]
    },
    {
      "cell_type": "markdown",
      "metadata": {},
      "source": [
        "rename columns with the approved headings: \"index\" and \"regions\"\n----------------------------------------------------------------\n\n"
      ]
    },
    {
      "cell_type": "code",
      "execution_count": null,
      "metadata": {
        "collapsed": false
      },
      "outputs": [],
      "source": [
        "atlas_df.rename({0: 'index', 1: 'regions'}, axis='columns', inplace=True)\nprint(atlas_df.head())"
      ]
    },
    {
      "cell_type": "markdown",
      "metadata": {},
      "source": [
        "remove prefix \"7Networks\"\n-------------------------\n\n"
      ]
    },
    {
      "cell_type": "code",
      "execution_count": null,
      "metadata": {
        "collapsed": false
      },
      "outputs": [],
      "source": [
        "atlas_df.replace(regex={'7Networks_(.*)': '\\\\1'}, inplace=True)\nprint(atlas_df.head())"
      ]
    },
    {
      "cell_type": "markdown",
      "metadata": {},
      "source": [
        "write out the file as .tsv\n--------------------------\n\n"
      ]
    },
    {
      "cell_type": "code",
      "execution_count": null,
      "metadata": {
        "collapsed": false
      },
      "outputs": [],
      "source": [
        "atlas_tsv = atlas_txt.replace(\".txt\", \".tsv\")\natlas_df.to_csv(atlas_tsv, sep=\"\\t\", index=False)"
      ]
    },
    {
      "cell_type": "markdown",
      "metadata": {},
      "source": [
        "Run nibs\n========\n\n"
      ]
    },
    {
      "cell_type": "code",
      "execution_count": null,
      "metadata": {
        "collapsed": false
      },
      "outputs": [],
      "source": [
        "out_dir = os.path.join(data_dir, \"ds000164\", \"derivatives\")\nwork_dir = os.path.join(out_dir, \"work\")\natlas_mni_file = os.path.join(data_dir,\n                              \"ds000164\",\n                              \"derivatives\",\n                              \"data\",\n                              \"Schaefer2018_100Parcels_7Networks_order_FSLMNI152_2mm.nii.gz\")\ncmd = \"\"\"\\\nnibs -c WhiteMatter CSF \\\n--participant_label 001 \\\n-w {work_dir} \\\n-a {atlas_mni_file} \\\n-l {atlas_tsv} \\\n{bids_dir} \\\nfmriprep \\\n{out_dir} \\\nparticipant\n\"\"\".format(atlas_mni_file=atlas_mni_file,\n           atlas_tsv=atlas_tsv,\n           bids_dir=os.path.join(data_dir, \"ds000164\"),\n           out_dir=out_dir,\n           work_dir=work_dir)\n# call nibs\np = Popen(cmd, shell=True, stdout=PIPE, stderr=STDOUT)\n\nwhile True:\n    line = p.stdout.readline()\n    if not line:\n        break\n    print(line)"
      ]
    },
    {
      "cell_type": "markdown",
      "metadata": {},
      "source": [
        "Observe generated outputs\n=========================\n\n"
      ]
    },
    {
      "cell_type": "code",
      "execution_count": null,
      "metadata": {
        "collapsed": false
      },
      "outputs": [],
      "source": [
        "list_files(data_dir)"
      ]
    },
    {
      "cell_type": "markdown",
      "metadata": {},
      "source": [
        "Collect results\n===============\n\n"
      ]
    },
    {
      "cell_type": "code",
      "execution_count": null,
      "metadata": {
        "collapsed": false
      },
      "outputs": [],
      "source": [
        "corr_mat_path = os.path.join(out_dir, \"NiBetaSeries\", \"nibetaseries\", \"sub-001\", \"func\")\ntrial_types = ['congruent', 'incongruent', 'neutral']\nfilename_template = \"sub-001_task-stroop_bold_space-MNI152NLin2009cAsym_preproc_trialtype-{trial_type}_matrix.tsv\"\npd_dict = {}\nfor trial_type in trial_types:\n    file_path = os.path.join(corr_mat_path, filename_template.format(trial_type=trial_type))\n    pd_dict[trial_type] = pd.read_csv(file_path, sep='\\t', na_values=\"n/a\", index_col=0)\n# display example matrix\nprint(pd_dict[trial_type].head())"
      ]
    },
    {
      "cell_type": "markdown",
      "metadata": {},
      "source": [
        "Graph the results\n=================\n\n"
      ]
    },
    {
      "cell_type": "code",
      "execution_count": null,
      "metadata": {
        "collapsed": false
      },
      "outputs": [],
      "source": [
        "fig, axes = plt.subplots(nrows=3, ncols=1, sharex=True, sharey=True, figsize=(10, 30),\n                         gridspec_kw={'wspace': 0.025, 'hspace': 0.075})\n\ncbar_ax = fig.add_axes([.91, .3, .03, .4])\nr = 0\nfor trial_type, df in pd_dict.items():\n    g = sns.heatmap(df, ax=axes[r], vmin=-.5, vmax=1., square=True,\n                    cbar=True, cbar_ax=cbar_ax)\n    axes[r].set_title(trial_type)\n    # iterate over rows\n    r += 1\nplt.tight_layout()"
      ]
    }
  ],
  "metadata": {
    "kernelspec": {
      "display_name": "Python 3",
      "language": "python",
      "name": "python3"
    },
    "language_info": {
      "codemirror_mode": {
        "name": "ipython",
        "version": 3
      },
      "file_extension": ".py",
      "mimetype": "text/x-python",
      "name": "python",
      "nbconvert_exporter": "python",
      "pygments_lexer": "ipython3",
      "version": "3.6.3"
    }
  },
  "nbformat": 4,
  "nbformat_minor": 0
}